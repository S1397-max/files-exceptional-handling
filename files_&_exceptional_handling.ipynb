{
  "nbformat": 4,
  "nbformat_minor": 0,
  "metadata": {
    "colab": {
      "provenance": []
    },
    "kernelspec": {
      "name": "python3",
      "display_name": "Python 3"
    },
    "language_info": {
      "name": "python"
    }
  },
  "cells": [
    {
      "cell_type": "markdown",
      "source": [
        "1. Interpreted languages execute code line-by-line at runtime, making them more flexible but often slower (e.g., Python, JavaScript).\n",
        "\n",
        "Compiled languages are transformed into machine code before execution, leading to faster performance (e.g., C, C++).\n",
        "\n",
        "2. Python's exception handling mechanism ensures that runtime errors do not crash a program. This is done using try, except, finally, and else blocks.\n",
        "\n",
        "3. Python's exception handling mechanism ensures that runtime errors do not crash a program. This is done using try, except, finally, and else blocks.\n",
        "\n",
        "4. The logging module allows developers to track events that happen while the program runs, making debugging and monitoring easier.\n",
        "\n",
        "5. The del method is Python’s destructor, automatically called when an object is deleted. It helps clean up resources but is generally avoided due to unpredictable execution timing.\n",
        "\n",
        "6. import module brings in the whole module.\n",
        "from module import function/class imports specific elements, making code cleaner.\n",
        "\n",
        "7. Multiple exceptions can be handled using except (Exception1, Exception2) as e: or defining multiple except blocks for different errors.\n",
        "\n",
        "8. the with statement in file handling automatically closes files after execution, reducing resource leaks.\n",
        "\n",
        "9. Multithreading handles more than one threads in the identical procedure, top notch for I/O-certain responsibilities.\n",
        "Multiprocessing creates separate tactics, satisfactory for CPU-heavy tasks.\n",
        "\n",
        "10. using logging in a program helps debugging, tracks application beaviour and records errors for analysis,\n",
        "\n",
        "11. Python makes use of automatic garbage series to loose memory.\n",
        "Key components:\n",
        "Reference counting: Deletes objects while no references exist.\n",
        "Cyclic rubbish series: Removes cyclic dependencies.\n",
        "\n",
        "12. Basic Steps in Exception Handling in Python\n",
        "Using the try Block: This is where you place code that might cause an error. If an exception occurs, Python will move to the except block instead of crashing the program.\n",
        "\n",
        "Catching Errors with except: When an error occurs in the try block, the except block handles it. You can specify a particular type of error to catch or use a generic exception handler to cover multiple errors.\n",
        "\n",
        "Using the else Block (Optional): This block executes only if no exception occurs in the try block. It helps differentiate successful execution from error handling.\n",
        "\n",
        "Cleaning Up with finally: The finally block runs regardless of whether an exception occurs or not. It is typically used for cleanup operations, such as closing files or releasing resources.\n",
        "\n",
        "Raising Exceptions Manually (Optional): You can manually trigger exceptions using the raise statement. This is useful for enforcing certain constraints or testing error handling mechanisms in your code.\n",
        "\n",
        "13. Memory control guarantees efficient use of system resources, preventing memory leaks and performance degradation. Python handles reminiscence routinely using garbage series and dynamic allocation, making it less difficult for builders.\n",
        "\n",
        "14. The try block encloses code that may cause an error, while the except block catches and handles the error. This prevents abrupt program termination and allows graceful error handling.\n",
        "\n",
        "15. Python uses reference counting and cyclic garbage series to manipulate reminiscence:\n",
        "Reference counting deletes items when no references exist.\n",
        "Cyclic rubbish collection identifies and gets rid of circular references that reference counting cannot cope with.\n",
        "\n",
        "16. The else block runs only when no exception occurs in the try block. It ensures that specific code executes only if everything runs smoothly.\n",
        "\n",
        "17. Python's logging module provides exclusive degrees of logging\n",
        "DEBUG : Detailed diagnostic information.\n",
        "INFO : General application events.\n",
        "WARNING : Possible problems.\n",
        "ERROR : Serious mistakes.\n",
        "CRITICAL : Fatal errors.\n",
        "\n",
        "18. os.fork() creates a child process and is Unix-specific.\n",
        "multiprocessing provides cross-platform parallel execution with more flexibility and better process management.\n",
        "\n",
        "19. Closing a record guarantees that statistics is saved nicely and prevents reminiscence leaks or corruption. Unclosed files can lead to resource exhaustion\n",
        "\n",
        "20. file.read() reads the entire file at once.\n",
        "file.readline() reads one line at a time, making it useful for handling large files\n",
        "\n",
        "21. The logging module records events and errors during program execution, helping developers debug, monitor, and analyze system behavior.\n",
        "\n",
        "22. Python’s os module provides functionality for file manipulation, such as renaming, deleting, navigating directories, and checking file properties\n",
        "\n",
        "23. hallenges in Memory Management in Python\n",
        "Handling memory leaks due to global or lingering references.\n",
        "Garbage collection overhead, which could gradual down performance.\n",
        "Fragmentation, in which reminiscence allocation is inefficient.\n",
        "\n",
        "24. Exceptions can be triggered using the raise statement, allowing developers to enforce rules and handle errors explicitly.\n",
        "\n",
        "25. Importance of Multithreading in Certain Applications\n",
        "Multithreading enhances performance in I/O-bound tasks, such as web scraping, network operations, and database queries, by running multiple tasks concurrently."
      ],
      "metadata": {
        "id": "4LjvDBtXFmlb"
      }
    },
    {
      "cell_type": "code",
      "source": [
        "# prompt: How can you open a file for writing in Python and write a string to it\n",
        "\n",
        "def write_string_to_file(filepath, text):\n",
        "    \"\"\"Opens a file for writing and writes a string to it.\n",
        "\n",
        "    Args:\n",
        "        filepath: The path to the file.\n",
        "        text: The string to write to the file.\n",
        "    \"\"\"\n",
        "    try:\n",
        "        with open(filepath, 'w') as file:\n",
        "            file.write(text)\n",
        "    except Exception as e:\n",
        "        print(f\"An error occurred: {e}\")\n",
        "\n",
        "# Example usage\n",
        "write_string_to_file(\"my_file.txt\", \"This is the text to be written.\")\n"
      ],
      "metadata": {
        "id": "es-A7StPFpXl"
      },
      "execution_count": 1,
      "outputs": []
    },
    {
      "cell_type": "code",
      "source": [
        "# prompt:  Write a Python program to read the contents of a file and print each line\n",
        "\n",
        "def print_file_contents(filepath):\n",
        "    \"\"\"Reads and prints each line of a file.\n",
        "\n",
        "    Args:\n",
        "      filepath: The path to the file.\n",
        "    \"\"\"\n",
        "    try:\n",
        "        with open(filepath, 'r') as file:\n",
        "            for line in file:\n",
        "                print(line, end='')  # end='' prevents extra newline\n",
        "    except FileNotFoundError:\n",
        "        print(f\"Error: File '{filepath}' not found.\")\n",
        "    except Exception as e:\n",
        "        print(f\"An error occurred: {e}\")\n",
        "\n",
        "# Example usage:\n",
        "print_file_contents(\"my_file.txt\")\n"
      ],
      "metadata": {
        "colab": {
          "base_uri": "https://localhost:8080/"
        },
        "id": "szPm7yxDK_gM",
        "outputId": "72d8142b-6bb5-4ee2-b919-5b07e3d68c3c"
      },
      "execution_count": 2,
      "outputs": [
        {
          "output_type": "stream",
          "name": "stdout",
          "text": [
            "This is the text to be written."
          ]
        }
      ]
    },
    {
      "cell_type": "code",
      "source": [
        "# prompt:  How would you handle a case where the file doesn't exist while trying to open it for reading\n",
        "\n",
        "def print_file_contents(filepath):\n",
        "    \"\"\"Reads and prints each line of a file.\n",
        "\n",
        "    Args:\n",
        "      filepath: The path to the file.\n",
        "    \"\"\"\n",
        "    try:\n",
        "        with open(filepath, 'r') as file:\n",
        "            for line in file:\n",
        "                print(line, end='')  # end='' prevents extra newline\n",
        "    except FileNotFoundError:\n",
        "        print(f\"Error: File '{filepath}' not found.\")\n",
        "    except Exception as e:\n",
        "        print(f\"An error occurred: {e}\")\n",
        "\n",
        "# Example usage:\n",
        "print_file_contents(\"my_file.txt\")\n"
      ],
      "metadata": {
        "colab": {
          "base_uri": "https://localhost:8080/"
        },
        "id": "vVnFla4OK_0g",
        "outputId": "1b301b2f-3395-44d0-837f-5d6d609c27d1"
      },
      "execution_count": 4,
      "outputs": [
        {
          "output_type": "stream",
          "name": "stdout",
          "text": [
            "This is the text to be written."
          ]
        }
      ]
    },
    {
      "cell_type": "code",
      "source": [
        "# prompt:  Write a Python script that reads from one file and writes its content to another file\n",
        "\n",
        "def copy_file_contents(source_filepath, destination_filepath):\n",
        "    \"\"\"Copies the content of one file to another.\n",
        "\n",
        "    Args:\n",
        "        source_filepath: Path to the source file.\n",
        "        destination_filepath: Path to the destination file.\n",
        "    \"\"\"\n",
        "    try:\n",
        "        with open(source_filepath, 'r') as source_file:\n",
        "            with open(destination_filepath, 'w') as destination_file:\n",
        "                for line in source_file:\n",
        "                    destination_file.write(line)\n",
        "    except FileNotFoundError:\n",
        "        print(f\"Error: Source file '{source_filepath}' not found.\")\n",
        "    except Exception as e:\n",
        "        print(f\"An error occurred: {e}\")\n",
        "\n",
        "# Example usage\n",
        "copy_file_contents(\"source.txt\", \"destination.txt\")\n"
      ],
      "metadata": {
        "colab": {
          "base_uri": "https://localhost:8080/"
        },
        "id": "gFurAVTXLIsA",
        "outputId": "4b646e43-d16a-4c60-a9be-e8875a3b7d49"
      },
      "execution_count": 5,
      "outputs": [
        {
          "output_type": "stream",
          "name": "stdout",
          "text": [
            "Error: Source file 'source.txt' not found.\n"
          ]
        }
      ]
    },
    {
      "cell_type": "code",
      "source": [
        "# prompt: How would you catch and handle division by zero error in Python\n",
        "\n",
        "def divide_numbers(a, b):\n",
        "    try:\n",
        "        result = a / b\n",
        "        return result\n",
        "    except ZeroDivisionError:\n",
        "        print(\"Error: Division by zero!\")\n",
        "        return None  # Or raise a custom exception\n",
        "\n",
        "# Example usage\n",
        "result1 = divide_numbers(10, 2)\n",
        "print(result1)  # Output: 5.0\n",
        "\n",
        "result2 = divide_numbers(5, 0)\n",
        "print(result2)  # Output: Error: Division by zero! \\n None\n"
      ],
      "metadata": {
        "colab": {
          "base_uri": "https://localhost:8080/"
        },
        "id": "P-vzbYcILI1C",
        "outputId": "26e89be5-8efb-4019-f2ab-967ca447fae0"
      },
      "execution_count": 6,
      "outputs": [
        {
          "output_type": "stream",
          "name": "stdout",
          "text": [
            "5.0\n",
            "Error: Division by zero!\n",
            "None\n"
          ]
        }
      ]
    },
    {
      "cell_type": "code",
      "source": [
        "# prompt:  Write a Python program that logs an error message to a log file when a division by zero exception occurs\n",
        "\n",
        "import logging\n",
        "\n",
        "def divide_numbers(a, b):\n",
        "    try:\n",
        "        result = a / b\n",
        "        return result\n",
        "    except ZeroDivisionError:\n",
        "        # Configure logging\n",
        "        logging.basicConfig(filename='error.log', level=logging.ERROR,\n",
        "                            format='%(asctime)s - %(levelname)s - %(message)s')\n",
        "        logging.error(\"Division by zero occurred\")\n",
        "        return None\n",
        "\n",
        "# Example usage\n",
        "result1 = divide_numbers(10, 2)\n",
        "print(result1)\n",
        "\n",
        "result2 = divide_numbers(5, 0)\n",
        "result2\n"
      ],
      "metadata": {
        "colab": {
          "base_uri": "https://localhost:8080/"
        },
        "id": "JnUAr8CuLI_7",
        "outputId": "a3b2b00d-c934-4958-c436-230907b7b217"
      },
      "execution_count": 7,
      "outputs": [
        {
          "output_type": "stream",
          "name": "stderr",
          "text": [
            "ERROR:root:Division by zero occurred\n"
          ]
        },
        {
          "output_type": "stream",
          "name": "stdout",
          "text": [
            "5.0\n"
          ]
        }
      ]
    },
    {
      "cell_type": "code",
      "source": [
        "# prompt:  How do you log information at different levels (INFO, ERROR, WARNING) in Python using the logging module\n",
        "\n",
        "import logging\n",
        "\n",
        "# Configure the logging system\n",
        "logging.basicConfig(level=logging.DEBUG,  # Set the root logger's level\n",
        "                    format='%(asctime)s - %(name)s - %(levelname)s - %(message)s')\n",
        "\n",
        "# Create a logger (optional, but good practice)\n",
        "my_logger = logging.getLogger(__name__)\n",
        "\n",
        "\n",
        "def my_function():\n",
        "    my_logger.debug(\"This is a debug message.\")\n",
        "    my_logger.info(\"This is an info message.\")\n",
        "    my_logger.warning(\"This is a warning message.\")\n",
        "    my_logger.error(\"This is an error message.\")\n",
        "    my_logger.critical(\"This is a critical message.\")\n",
        "\n",
        "my_function()\n"
      ],
      "metadata": {
        "colab": {
          "base_uri": "https://localhost:8080/"
        },
        "id": "YjHrs43ILJMp",
        "outputId": "ff96e909-844b-4a40-815f-9097f21c25e6"
      },
      "execution_count": 8,
      "outputs": [
        {
          "output_type": "stream",
          "name": "stderr",
          "text": [
            "WARNING:__main__:This is a warning message.\n",
            "ERROR:__main__:This is an error message.\n",
            "CRITICAL:__main__:This is a critical message.\n"
          ]
        }
      ]
    },
    {
      "cell_type": "code",
      "source": [
        "# prompt: Write a program to handle a file opening error using exception handling\n",
        "\n",
        "import logging\n",
        "\n",
        "def print_file_contents(filepath):\n",
        "    \"\"\"Reads and prints each line of a file.\n",
        "\n",
        "    Args:\n",
        "      filepath: The path to the file.\n",
        "    \"\"\"\n",
        "    try:\n",
        "        with open(filepath, 'r') as file:\n",
        "            for line in file:\n",
        "                print(line, end='')  # end='' prevents extra newline\n",
        "    except FileNotFoundError:\n",
        "        print(f\"Error: File '{filepath}' not found.\")\n",
        "    except Exception as e:\n",
        "        print(f\"An error occurred: {e}\")\n",
        "\n",
        "# Example usage (replace 'your_file.txt' with the actual file name):\n",
        "print_file_contents(\"your_file.txt\")\n"
      ],
      "metadata": {
        "colab": {
          "base_uri": "https://localhost:8080/"
        },
        "id": "fK_o4UzRLJY0",
        "outputId": "42cb52e5-3c78-435e-ecf9-9b82789464c4"
      },
      "execution_count": 9,
      "outputs": [
        {
          "output_type": "stream",
          "name": "stdout",
          "text": [
            "Error: File 'your_file.txt' not found.\n"
          ]
        }
      ]
    },
    {
      "cell_type": "code",
      "source": [
        "# prompt: How can you read a file line by line and store its content in a list in Python\n",
        "\n",
        "def read_file_into_list(filepath):\n",
        "    \"\"\"Reads a file line by line and stores its content in a list.\n",
        "\n",
        "    Args:\n",
        "        filepath: The path to the file.\n",
        "\n",
        "    Returns:\n",
        "        A list of strings, where each string is a line from the file.\n",
        "        Returns an empty list if the file is not found or an error occurs.\n",
        "    \"\"\"\n",
        "    lines = []\n",
        "    try:\n",
        "        with open(filepath, 'r') as file:\n",
        "            for line in file:\n",
        "                lines.append(line.strip())  # Remove leading/trailing whitespace\n",
        "    except FileNotFoundError:\n",
        "        print(f\"Error: File '{filepath}' not found.\")\n",
        "    except Exception as e:\n",
        "        print(f\"An error occurred: {e}\")\n",
        "    return lines\n",
        "\n",
        "# Example usage:\n",
        "file_content = read_file_into_list(\"my_file.txt\")\n",
        "file_content\n"
      ],
      "metadata": {
        "colab": {
          "base_uri": "https://localhost:8080/"
        },
        "id": "alq_PsuILJjt",
        "outputId": "d57e64e3-8e62-4e10-eac1-d4bc5279ae1b"
      },
      "execution_count": 11,
      "outputs": [
        {
          "output_type": "execute_result",
          "data": {
            "text/plain": [
              "['This is the text to be written.']"
            ]
          },
          "metadata": {},
          "execution_count": 11
        }
      ]
    },
    {
      "cell_type": "code",
      "source": [
        "# prompt:  How can you append data to an existing file in Python\n",
        "\n",
        "def append_to_file(filepath, text):\n",
        "    \"\"\"Appends text to an existing file. Creates the file if it doesn't exist.\n",
        "\n",
        "    Args:\n",
        "        filepath: The path to the file.\n",
        "        text: The text to append.\n",
        "    \"\"\"\n",
        "    try:\n",
        "        with open(filepath, 'a') as file:  # Open in append mode ('a')\n",
        "            file.write(text + '\\n')  # Add a newline for readability\n",
        "    except Exception as e:\n",
        "        print(f\"An error occurred: {e}\")\n"
      ],
      "metadata": {
        "id": "Dx5drEdsLJvb"
      },
      "execution_count": 12,
      "outputs": []
    },
    {
      "cell_type": "code",
      "source": [
        "# prompt: Write a Python program that uses a try-except block to handle an error when attempting to access a\n",
        "# dictionary key that doesn't exist\n",
        "\n",
        "def access_dictionary(my_dict, key):\n",
        "    try:\n",
        "        value = my_dict[key]\n",
        "        print(f\"The value for key '{key}' is: {value}\")\n",
        "    except KeyError:\n",
        "        print(f\"Error: Key '{key}' not found in the dictionary.\")\n",
        "\n",
        "# Example usage\n",
        "my_dict = {\"a\": 1, \"b\": 2, \"c\": 3}\n",
        "\n",
        "access_dictionary(my_dict, \"b\")  # Output: The value for key 'b' is: 2\n",
        "access_dictionary(my_dict, \"d\")  # Output: Error: Key 'd' not found in the dictionary.\n"
      ],
      "metadata": {
        "colab": {
          "base_uri": "https://localhost:8080/"
        },
        "id": "jdPXv5QVLJ7L",
        "outputId": "c4366e7f-9a2b-443f-8e15-8b432d146c5a"
      },
      "execution_count": 13,
      "outputs": [
        {
          "output_type": "stream",
          "name": "stdout",
          "text": [
            "The value for key 'b' is: 2\n",
            "Error: Key 'd' not found in the dictionary.\n"
          ]
        }
      ]
    },
    {
      "cell_type": "code",
      "source": [
        "# prompt: Write a program that demonstrates using multiple except blocks to handle different types of exceptions\n",
        "\n",
        "import logging\n",
        "\n",
        "def divide_numbers(a, b):\n",
        "    try:\n",
        "        result = a / b\n",
        "        return result\n",
        "    except ZeroDivisionError:\n",
        "        print(\"Error: Division by zero!\")\n",
        "        return None\n",
        "    except TypeError:\n",
        "        print(\"Error: Invalid input types. Please provide numbers.\")\n",
        "        return None\n",
        "\n",
        "# Example usage\n",
        "result1 = divide_numbers(10, 2)\n",
        "print(result1)  # Output: 5.0\n",
        "\n",
        "result2 = divide_numbers(5, 0)\n",
        "print(result2)  # Output: Error: Division by zero! \\n None\n",
        "\n",
        "result3 = divide_numbers(\"a\", 2) # Example of TypeError\n",
        "result3\n"
      ],
      "metadata": {
        "colab": {
          "base_uri": "https://localhost:8080/"
        },
        "id": "_Eld8g76LKFt",
        "outputId": "f16459a0-d355-47e8-c6f9-12c7bfafa709"
      },
      "execution_count": 14,
      "outputs": [
        {
          "output_type": "stream",
          "name": "stdout",
          "text": [
            "5.0\n",
            "Error: Division by zero!\n",
            "None\n",
            "Error: Invalid input types. Please provide numbers.\n"
          ]
        }
      ]
    },
    {
      "cell_type": "code",
      "source": [
        "# prompt:  How would you check if a file exists before attempting to read it in Python\n",
        "\n",
        "import os\n",
        "\n",
        "def read_file_if_exists(filepath):\n",
        "    \"\"\"Reads a file if it exists, otherwise prints an error message.\n",
        "\n",
        "    Args:\n",
        "        filepath: The path to the file.\n",
        "    \"\"\"\n",
        "    if os.path.exists(filepath):\n",
        "        try:\n",
        "            with open(filepath, 'r') as file:\n",
        "                contents = file.read()\n",
        "                print(contents)\n",
        "        except Exception as e:\n",
        "            print(f\"An error occurred while reading the file: {e}\")\n",
        "    else:\n",
        "        print(f\"Error: File '{filepath}' does not exist.\")\n",
        "\n",
        "# Example usage\n",
        "read_file_if_exists(\"my_file.txt\")\n"
      ],
      "metadata": {
        "colab": {
          "base_uri": "https://localhost:8080/"
        },
        "id": "Uj50eRPCLKQo",
        "outputId": "bce77bc2-24d2-4fb4-ae12-9ee910da4b74"
      },
      "execution_count": 15,
      "outputs": [
        {
          "output_type": "stream",
          "name": "stdout",
          "text": [
            "This is the text to be written.\n"
          ]
        }
      ]
    },
    {
      "cell_type": "code",
      "source": [
        "# prompt:  Write a program that uses the logging module to log both informational and error messages\n",
        "\n",
        "import logging\n",
        "\n",
        "# Configure the logging system\n",
        "logging.basicConfig(filename='my_program.log', level=logging.INFO,\n",
        "                    format='%(asctime)s - %(levelname)s - %(message)s')\n",
        "\n",
        "def my_function():\n",
        "    logging.info(\"This is an informational message.\")  # Log an informational message\n",
        "    try:\n",
        "        result = 10 / 0  # This will cause a ZeroDivisionError\n",
        "    except ZeroDivisionError:\n",
        "        logging.error(\"An error occurred: Division by zero\") # Log an error message\n",
        "\n",
        "my_function()\n"
      ],
      "metadata": {
        "colab": {
          "base_uri": "https://localhost:8080/"
        },
        "id": "OqA3jJruLKYo",
        "outputId": "eaf67356-9126-4d76-f2aa-fb7bc4fdb911"
      },
      "execution_count": 16,
      "outputs": [
        {
          "output_type": "stream",
          "name": "stderr",
          "text": [
            "ERROR:root:An error occurred: Division by zero\n"
          ]
        }
      ]
    },
    {
      "cell_type": "code",
      "source": [
        "# prompt:  Write a Python program that prints the content of a file and handles the case when the file is empty\n",
        "\n",
        "import os\n",
        "\n",
        "def print_file_contents(filepath):\n",
        "    \"\"\"Prints the content of a file, handling empty files and errors.\"\"\"\n",
        "    try:\n",
        "        with open(filepath, 'r') as file:\n",
        "            contents = file.read()\n",
        "            if not contents:\n",
        "                print(f\"The file '{filepath}' is empty.\")\n",
        "            else:\n",
        "                print(contents)\n",
        "    except FileNotFoundError:\n",
        "        print(f\"Error: File '{filepath}' not found.\")\n",
        "    except Exception as e:\n",
        "        print(f\"An error occurred: {e}\")\n",
        "\n",
        "# Example usage:\n",
        "print_file_contents(\"my_file.txt\") # Replace \"my_file.txt\" with your file's name\n"
      ],
      "metadata": {
        "colab": {
          "base_uri": "https://localhost:8080/"
        },
        "id": "Sl6TXXKFLKhW",
        "outputId": "5621eb40-6518-41ae-fa9d-ebb808d47c66"
      },
      "execution_count": 17,
      "outputs": [
        {
          "output_type": "stream",
          "name": "stdout",
          "text": [
            "This is the text to be written.\n"
          ]
        }
      ]
    },
    {
      "cell_type": "code",
      "source": [
        "# prompt:  Demonstrate how to use memory profiling to check the memory usage of a small program\n",
        "\n",
        "!pip install memory_profiler\n",
        "\n",
        "%load_ext memory_profiler\n",
        "\n",
        "# Example usage (make sure the file exists)\n",
        "%memit write_string_to_file(\"my_file.txt\", \"This is the text to be written.\")\n",
        "%memit print_file_contents(\"my_file.txt\")\n",
        "%memit copy_file_contents(\"my_file.txt\", \"destination.txt\")\n",
        "%memit divide_numbers(10,2)\n",
        "%memit my_function()\n",
        "%memit print_file_contents(\"my_file.txt\")\n",
        "%memit read_file_into_list(\"my_file.txt\")\n",
        "%memit append_to_file(\"my_file.txt\", \"appended text\")\n",
        "%memit access_dictionary({\"a\": 1, \"b\": 2, \"c\": 3},\"b\")\n",
        "%memit divide_numbers(10,2)\n",
        "%memit read_file_if_exists(\"my_file.txt\")\n",
        "%memit my_function()\n",
        "%memit print_file_contents(\"my_file.txt\")\n"
      ],
      "metadata": {
        "colab": {
          "base_uri": "https://localhost:8080/"
        },
        "id": "uBcoBABMLKrE",
        "outputId": "6023677b-7c55-40f2-a2fc-dd99e6e5a89e"
      },
      "execution_count": 18,
      "outputs": [
        {
          "output_type": "stream",
          "name": "stdout",
          "text": [
            "Collecting memory_profiler\n",
            "  Downloading memory_profiler-0.61.0-py3-none-any.whl.metadata (20 kB)\n",
            "Requirement already satisfied: psutil in /usr/local/lib/python3.11/dist-packages (from memory_profiler) (5.9.5)\n",
            "Downloading memory_profiler-0.61.0-py3-none-any.whl (31 kB)\n",
            "Installing collected packages: memory_profiler\n",
            "Successfully installed memory_profiler-0.61.0\n",
            "peak memory: 104.12 MiB, increment: 0.27 MiB\n",
            "This is the text to be written.\n",
            "peak memory: 104.26 MiB, increment: 0.04 MiB\n",
            "peak memory: 104.26 MiB, increment: 0.00 MiB\n",
            "peak memory: 104.36 MiB, increment: 0.10 MiB\n"
          ]
        },
        {
          "output_type": "stream",
          "name": "stderr",
          "text": [
            "ERROR:root:An error occurred: Division by zero\n"
          ]
        },
        {
          "output_type": "stream",
          "name": "stdout",
          "text": [
            "peak memory: 104.37 MiB, increment: 0.00 MiB\n",
            "This is the text to be written.\n",
            "peak memory: 104.37 MiB, increment: 0.00 MiB\n",
            "peak memory: 104.46 MiB, increment: 0.00 MiB\n",
            "peak memory: 104.48 MiB, increment: 0.01 MiB\n",
            "The value for key 'b' is: 2\n",
            "peak memory: 104.50 MiB, increment: 0.00 MiB\n",
            "peak memory: 104.50 MiB, increment: 0.00 MiB\n",
            "This is the text to be written.appended text\n",
            "\n",
            "peak memory: 104.50 MiB, increment: 0.00 MiB\n"
          ]
        },
        {
          "output_type": "stream",
          "name": "stderr",
          "text": [
            "ERROR:root:An error occurred: Division by zero\n"
          ]
        },
        {
          "output_type": "stream",
          "name": "stdout",
          "text": [
            "peak memory: 104.52 MiB, increment: 0.00 MiB\n",
            "This is the text to be written.appended text\n",
            "\n",
            "peak memory: 104.52 MiB, increment: 0.00 MiB\n"
          ]
        }
      ]
    },
    {
      "cell_type": "code",
      "source": [
        "# prompt:  Write a Python program to create and write a list of numbers to a file, one number per line\n",
        "\n",
        "def write_numbers_to_file(filepath, numbers):\n",
        "    \"\"\"Writes a list of numbers to a file, one number per line.\n",
        "\n",
        "    Args:\n",
        "        filepath: The path to the file.\n",
        "        numbers: A list of numbers to write.\n",
        "    \"\"\"\n",
        "    try:\n",
        "        with open(filepath, 'w') as file:\n",
        "            for number in numbers:\n",
        "                file.write(str(number) + '\\n')\n",
        "    except Exception as e:\n",
        "        print(f\"An error occurred: {e}\")\n",
        "\n",
        "# Example usage:\n",
        "numbers = [1, 2, 3, 4, 5, 6]\n",
        "write_numbers_to_file(\"numbers.txt\", numbers)\n"
      ],
      "metadata": {
        "id": "RGFe24CILK1f"
      },
      "execution_count": 19,
      "outputs": []
    },
    {
      "cell_type": "code",
      "source": [
        "# prompt: How would you implement a basic logging setup that logs to a file with rotation after 1MB\n",
        "\n",
        "import logging\n",
        "from logging.handlers import RotatingFileHandler\n",
        "\n",
        "# Configure the logger with a RotatingFileHandler\n",
        "log_file = \"my_app.log\"\n",
        "max_bytes = 1 * 1024 * 1024  # 1MB\n",
        "backup_count = 5  # Keep 5 backup log files\n",
        "\n",
        "handler = RotatingFileHandler(log_file, maxBytes=max_bytes, backupCount=backup_count)\n",
        "formatter = logging.Formatter('%(asctime)s - %(levelname)s - %(message)s')\n",
        "handler.setFormatter(formatter)\n",
        "\n",
        "logger = logging.getLogger(__name__)\n",
        "logger.setLevel(logging.DEBUG) # Set desired logging level\n",
        "logger.addHandler(handler)\n",
        "\n",
        "# Example usage\n",
        "logger.debug(\"This is a debug message.\")\n",
        "logger.info(\"This is an informational message.\")\n",
        "logger.warning(\"This is a warning message.\")\n",
        "logger.error(\"This is an error message.\")\n",
        "logger.critical(\"This is a critical message.\")\n"
      ],
      "metadata": {
        "colab": {
          "base_uri": "https://localhost:8080/"
        },
        "id": "hlvmzBZlLK9w",
        "outputId": "594444e9-75da-4b3f-c68c-01a808cc17b4"
      },
      "execution_count": 20,
      "outputs": [
        {
          "output_type": "stream",
          "name": "stderr",
          "text": [
            "DEBUG:__main__:This is a debug message.\n",
            "INFO:__main__:This is an informational message.\n",
            "WARNING:__main__:This is a warning message.\n",
            "ERROR:__main__:This is an error message.\n",
            "CRITICAL:__main__:This is a critical message.\n"
          ]
        }
      ]
    },
    {
      "cell_type": "code",
      "source": [
        "# prompt:  Write a program that handles both IndexError and KeyError using a try-except block\n",
        "\n",
        "def access_list_element(my_list, index):\n",
        "    try:\n",
        "        value = my_list[index]\n",
        "        print(f\"The value at index {index} is: {value}\")\n",
        "    except IndexError:\n",
        "        print(f\"Error: Index {index} is out of bounds for the list.\")\n",
        "\n",
        "# Example usage\n",
        "my_list = [10, 20, 30, 40, 50]\n",
        "\n",
        "access_list_element(my_list, 2)  # Output: The value at index 2 is: 30\n",
        "access_list_element(my_list, 10) # Output: Error: Index 10 is out of bounds for the list.\n",
        "\n",
        "\n",
        "def access_dictionary_element(my_dict, key):\n",
        "    try:\n",
        "        value = my_dict[key]\n",
        "        print(f\"The value for key '{key}' is: {value}\")\n",
        "    except KeyError:\n",
        "        print(f\"Error: Key '{key}' not found in the dictionary.\")\n",
        "\n",
        "# Example usage\n",
        "my_dict = {\"a\": 1, \"b\": 2, \"c\": 3}\n",
        "access_dictionary_element(my_dict, \"b\")  # Output: The value for key 'b' is: 2\n",
        "access_dictionary_element(my_dict, \"d\")  # Output: Error: Key 'd' not found in the dictionary.\n"
      ],
      "metadata": {
        "colab": {
          "base_uri": "https://localhost:8080/"
        },
        "id": "CTLqkLoZLLHL",
        "outputId": "2a30fad7-bbd5-49b0-d6a9-15a9b02978c2"
      },
      "execution_count": 21,
      "outputs": [
        {
          "output_type": "stream",
          "name": "stdout",
          "text": [
            "The value at index 2 is: 30\n",
            "Error: Index 10 is out of bounds for the list.\n",
            "The value for key 'b' is: 2\n",
            "Error: Key 'd' not found in the dictionary.\n"
          ]
        }
      ]
    },
    {
      "cell_type": "code",
      "source": [
        "# prompt: How would you open a file and read its contents using a context manager in Python\n",
        "\n",
        "def read_file_contents(filepath):\n",
        "    \"\"\"Reads and prints the contents of a file using a context manager.\n",
        "\n",
        "    Args:\n",
        "        filepath: The path to the file.\n",
        "    \"\"\"\n",
        "    try:\n",
        "        with open(filepath, 'r') as file:\n",
        "            contents = file.read()\n",
        "            print(contents)\n",
        "    except FileNotFoundError:\n",
        "        print(f\"Error: File '{filepath}' not found.\")\n",
        "    except Exception as e:\n",
        "        print(f\"An error occurred: {e}\")\n",
        "\n",
        "# Example usage:\n",
        "read_file_contents(\"filename.txt\")\n"
      ],
      "metadata": {
        "colab": {
          "base_uri": "https://localhost:8080/"
        },
        "id": "GN3L7eZvLLQO",
        "outputId": "1ac8b207-740b-445c-d6ef-8ab50d0b4dad"
      },
      "execution_count": 22,
      "outputs": [
        {
          "output_type": "stream",
          "name": "stdout",
          "text": [
            "Error: File 'filename.txt' not found.\n"
          ]
        }
      ]
    },
    {
      "cell_type": "code",
      "source": [
        "# prompt:  Write a Python program that reads a file and prints the number of occurrences of a specific word\n",
        "\n",
        "def count_word_occurrences(filepath, word):\n",
        "    \"\"\"Counts the occurrences of a specific word in a file.\n",
        "\n",
        "    Args:\n",
        "        filepath: The path to the file.\n",
        "        word: The word to search for.\n",
        "\n",
        "    Returns:\n",
        "        The number of times the word appears in the file, or -1 if an error occurs.\n",
        "    \"\"\"\n",
        "    try:\n",
        "        with open(filepath, 'r') as file:\n",
        "            contents = file.read()\n",
        "            # Convert to lowercase for case-insensitive counting\n",
        "            contents = contents.lower()\n",
        "            word = word.lower()\n",
        "            words = contents.split()  # Split the content into words\n",
        "            count = words.count(word)\n",
        "            return count\n",
        "    except FileNotFoundError:\n",
        "        print(f\"Error: File '{filepath}' not found.\")\n",
        "        return -1\n",
        "    except Exception as e:\n",
        "        print(f\"An error occurred: {e}\")\n",
        "        return -1\n",
        "\n",
        "# Example usage:\n",
        "filepath = \"your_file.txt\"  # Replace with your file path\n",
        "word_to_search = \"Python\"  # Replace with the word you want to search\n",
        "occurrences = count_word_occurrences(filepath, word_to_search)\n",
        "\n",
        "if occurrences != -1:\n",
        "    print(f\"The word '{word_to_search}' appears {occurrences} times in the file.\")\n"
      ],
      "metadata": {
        "colab": {
          "base_uri": "https://localhost:8080/"
        },
        "id": "RE21QnZZLLao",
        "outputId": "1358ce65-bc94-48fe-c96f-c3851c27c375"
      },
      "execution_count": 23,
      "outputs": [
        {
          "output_type": "stream",
          "name": "stdout",
          "text": [
            "Error: File 'your_file.txt' not found.\n"
          ]
        }
      ]
    },
    {
      "cell_type": "code",
      "source": [
        "# prompt: How can you check if a file is empty before attempting to read its contents\n",
        "\n",
        "import os\n",
        "\n",
        "def read_file_if_not_empty(filepath):\n",
        "    \"\"\"Reads a file if it exists and is not empty.\n",
        "\n",
        "    Args:\n",
        "        filepath: The path to the file.\n",
        "    \"\"\"\n",
        "    if os.path.exists(filepath):\n",
        "        try:\n",
        "            with open(filepath, 'r') as file:\n",
        "                # Efficiently check for empty file\n",
        "                if os.stat(filepath).st_size == 0:\n",
        "                    print(f\"The file '{filepath}' is empty.\")\n",
        "                else:\n",
        "                    contents = file.read()\n",
        "                    print(contents)\n",
        "        except Exception as e:\n",
        "            print(f\"An error occurred while reading the file: {e}\")\n",
        "    else:\n",
        "        print(f\"Error: File '{filepath}' does not exist.\")\n",
        "\n",
        "# Example usage\n",
        "read_file_if_not_empty(\"my_file.txt\")\n"
      ],
      "metadata": {
        "colab": {
          "base_uri": "https://localhost:8080/"
        },
        "id": "vgYZhsyuLLlE",
        "outputId": "f938b591-03ac-494e-ea0c-0e70ba76caf2"
      },
      "execution_count": 24,
      "outputs": [
        {
          "output_type": "stream",
          "name": "stdout",
          "text": [
            "This is the text to be written.appended text\n",
            "\n"
          ]
        }
      ]
    },
    {
      "cell_type": "code",
      "source": [
        "# prompt: Write a Python program that writes to a log file when an error occurs during file handling\n",
        "\n",
        "import logging\n",
        "import os\n",
        "from logging.handlers import RotatingFileHandler\n",
        "\n",
        "def read_file_contents(filepath):\n",
        "    \"\"\"Reads and prints the contents of a file, logging errors.\"\"\"\n",
        "    try:\n",
        "        with open(filepath, 'r') as file:\n",
        "            contents = file.read()\n",
        "            print(contents)\n",
        "    except FileNotFoundError:\n",
        "        logging.error(f\"Error: File '{filepath}' not found.\")\n",
        "    except Exception as e:\n",
        "        logging.exception(f\"An unexpected error occurred: {e}\")  # Log the full traceback\n",
        "\n",
        "# Configure logging to write to a file\n",
        "log_file = 'file_handling_errors.log'\n",
        "logging.basicConfig(filename=log_file, level=logging.ERROR,\n",
        "                    format='%(asctime)s - %(levelname)s - %(message)s')\n",
        "\n",
        "# Example Usage\n",
        "read_file_contents(\"non_existent_file.txt\")\n",
        "read_file_contents(\"my_file.txt\") #Replace with an existing file.\n"
      ],
      "metadata": {
        "colab": {
          "base_uri": "https://localhost:8080/"
        },
        "id": "Dz2wTYM1M1VB",
        "outputId": "0ffd5c02-1b75-448f-8963-d66dd89888c9"
      },
      "execution_count": 25,
      "outputs": [
        {
          "output_type": "stream",
          "name": "stderr",
          "text": [
            "ERROR:root:Error: File 'non_existent_file.txt' not found.\n"
          ]
        },
        {
          "output_type": "stream",
          "name": "stdout",
          "text": [
            "This is the text to be written.appended text\n",
            "\n"
          ]
        }
      ]
    }
  ]
}